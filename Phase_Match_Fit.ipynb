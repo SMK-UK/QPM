{
 "cells": [
  {
   "cell_type": "markdown",
   "metadata": {},
   "source": [
    "### **Phase-matching temperature fitting**\n",
    "    Sean Keenan, 5th Year MPhys Heriot-Watt University, Edinburgh  \n",
    "    Quantum memories group - QPL Heriot-Watt  \n",
    "\n",
    "\n",
    "Calculate the optimum phase matching temperature from a fit of experimental data"
   ]
  },
  {
   "cell_type": "code",
   "execution_count": null,
   "metadata": {},
   "outputs": [],
   "source": [
    "# load relevant modules\n",
    "import os, re\n",
    "import fit_funcs as ff\n",
    "import numpy as np\n",
    "import matplotlib.pyplot as mp"
   ]
  },
  {
   "cell_type": "markdown",
   "metadata": {},
   "source": [
    "Data import and fitting parameter set-up"
   ]
  },
  {
   "cell_type": "code",
   "execution_count": null,
   "metadata": {},
   "outputs": [],
   "source": [
    "# file path and name\n",
    "path = 'C:\\\\Users\\\\sk88\\\\Desktop'\n",
    "file = '20230106 QPM.txt'\n",
    "dataset = os.path.join(path, file)\n",
    "\n",
    "#temp lists for data\n",
    "temp = []\n",
    "power = []\n",
    "\n",
    "# parse data file and extract values (temp  power)\n",
    "with open(dataset, 'r', newline='') as raw_file:\n",
    "    for row in raw_file:\n",
    "        holder = re.split('\\t|,|;', row)\n",
    "        temp.append(float(holder[0]))\n",
    "        power.append(float(holder[1]))\n",
    "\n",
    "# tolerance for fitting params\n",
    "tol = 0.5\n",
    "# identify max power and location\n",
    "A = np.max(power)\n",
    "x_0 = np.argmax(power)\n",
    "# limits for fitting function - [amplitude, x_o, width] \n",
    "lower = [A*tol, x_0-20 , 0.5]\n",
    "upper = [A*(1+tol),x_0+20 , 2]\n",
    "limits = (lower, upper)\n",
    "\n",
    "fig, ax = mp.subplots()\n",
    "ax.set_title('Real Data')\n",
    "ax.set(xlabel='Temperature ($^\\circ$C)', ylabel='Power  (mW)')\n",
    "ax.plot(temp, power, 'x')\n"
   ]
  },
  {
   "cell_type": "markdown",
   "metadata": {},
   "source": [
    "Data fitting & plotting\n",
    "\n",
    "*Optimal fitting requires a good spread of data points on both sides of the sinc curve. It is possible to fit to just one half, but this is limited in its ability to find an optimal solution.*"
   ]
  },
  {
   "cell_type": "code",
   "execution_count": null,
   "metadata": {},
   "outputs": [],
   "source": [
    "fit, err = ff.fitsincsquare(temp, power, meth='trf')\n",
    "x_fit = np.linspace(start=20, stop=100, num=1000, endpoint=True)\n",
    "\n",
    "fig, ax = mp.subplots()\n",
    "ax.set_title('Fit to Data')\n",
    "ax.set(xlabel='Temperature ($^\\circ$C)', ylabel='Power  (mW)')\n",
    "ax.plot(temp, power)\n",
    "ax.plot(x_fit, ff.sincsquare(x_fit, *fit))\n",
    "\n",
    "print(fit, err)"
   ]
  }
 ],
 "metadata": {
  "kernelspec": {
   "display_name": "Python 3.7.4 32-bit",
   "language": "python",
   "name": "python3"
  },
  "language_info": {
   "codemirror_mode": {
    "name": "ipython",
    "version": 3
   },
   "file_extension": ".py",
   "mimetype": "text/x-python",
   "name": "python",
   "nbconvert_exporter": "python",
   "pygments_lexer": "ipython3",
   "version": "3.7.4"
  },
  "orig_nbformat": 4,
  "vscode": {
   "interpreter": {
    "hash": "87c8eeea08ab3d29ad729688c7dc8d710eb7504e2022354839d375ec51a3ad09"
   }
  }
 },
 "nbformat": 4,
 "nbformat_minor": 2
}
